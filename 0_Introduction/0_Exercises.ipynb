{
 "cells": [
  {
   "cell_type": "markdown",
   "id": "529d91ae",
   "metadata": {
    "tags": []
   },
   "source": [
    "# Exercise 00\n",
    "Write a bit of code that prints _Introduction to Programming_ to the console and execute the cell"
   ]
  },
  {
   "cell_type": "code",
   "execution_count": 2,
   "id": "98711beb",
   "metadata": {},
   "outputs": [
    {
     "name": "stdout",
     "output_type": "stream",
     "text": [
      "Introduction to Programming\n"
     ]
    }
   ],
   "source": [
    "print('Introduction to Programming')"
   ]
  },
  {
   "cell_type": "markdown",
   "id": "63ad5023",
   "metadata": {},
   "source": [
    "-----------------------------------------------------------------------------\n",
    "# Exercise 01\n",
    "Hello World is traditionally the first program anyone writes. It is\n",
    "very simple and the only thing it should do is print Hello World! to the\n",
    "terminal window.\n",
    "Create a file called HelloWorld.py and edit the contents so it prints Hello World! to the terminal and execute it using the command line."
   ]
  },
  {
   "cell_type": "markdown",
   "id": "a4a7c4c2",
   "metadata": {},
   "source": [
    "-----------------------------------------------------------------------------\n",
    "# Exercise 02\n",
    "Write some code to print your name, email, and age on separate lines. For each element first assign it to a variable and use the variable to print. \n",
    "\n",
    "Bonus: try to create the print statement for all variable in one line of code. (hint: '\\n' is the character for a new line)"
   ]
  },
  {
   "cell_type": "code",
   "execution_count": 44,
   "id": "fc8fface",
   "metadata": {},
   "outputs": [
    {
     "name": "stdout",
     "output_type": "stream",
     "text": [
      "name: Hanjie Pan \n",
      "email: ucbvhp0@ucl.ac.uk \n",
      "age: 24\n"
     ]
    }
   ],
   "source": [
    "name = 'Hanjie Pan'\n",
    "email = 'ucbvhp0@ucl.ac.uk'\n",
    "age = '24'\n",
    "print(f\"name: {name} \\nemail: {email} \\nage: {age}\")"
   ]
  },
  {
   "cell_type": "markdown",
   "id": "0dd1c1d1",
   "metadata": {},
   "source": [
    "-----------------------------------------------------------------------------\n",
    "# Exercise 03\n",
    "Print the numbers 0, 178, -21, 2938 divided by 49, 436 multiplied with 9948 and 12 to the power of 20\n",
    "\n",
    "(Hint: Look up the documentation of basic arithmetic operators)"
   ]
  },
  {
   "cell_type": "code",
   "execution_count": 46,
   "id": "f3d5d009",
   "metadata": {
    "scrolled": true
   },
   "outputs": [
    {
     "name": "stdout",
     "output_type": "stream",
     "text": [
      "0 / 49 = 0.0\n",
      "178 / 49 = 3.63265306122449\n",
      "-21 / 49 = -0.42857142857142855\n",
      "2938 / 49 = 59.95918367346939\n",
      "\n",
      "436 * 9948 = 4337328\n",
      "\n",
      "12^20 = 3833759992447475122176\n"
     ]
    }
   ],
   "source": [
    "print(f\"0 / 49 = {0 / 49}\\n178 / 49 = {178 / 49}\\n-21 / 49 = {-21 / 49}\\n2938 / 49 = {2938 / 49}\")\n",
    "print(f\"\\n436 * 9948 = {436 * 9948}\")\n",
    "print(f\"\\n12^20 = {12 ** 20}\")"
   ]
  },
  {
   "cell_type": "markdown",
   "id": "1f151455",
   "metadata": {},
   "source": [
    "-----------------------------------------------------------------------------\n",
    "# Exercise 04\n",
    "Print sin(200), cos(100), tan($\\pi$/4)\n",
    "\n",
    "(Hint: Look up for how to use trigonometric function, and how to get the value of $\\pi$.)"
   ]
  },
  {
   "cell_type": "code",
   "execution_count": 66,
   "id": "d0e37690",
   "metadata": {},
   "outputs": [
    {
     "name": "stdout",
     "output_type": "stream",
     "text": [
      "-0.34202014332566866 \n",
      " -0.1736481776669303 \n",
      " 0.9999999999999999\n"
     ]
    }
   ],
   "source": [
    "from math import *\n",
    "print(sin(radians(200)), '\\n', cos(radians(100)), '\\n', tan(pi/4))\n",
    "\n"
   ]
  },
  {
   "cell_type": "markdown",
   "id": "9d026820",
   "metadata": {},
   "source": [
    "-----------------------------------------------------------------------------\n",
    "# Exercise 05\n",
    "Write a program to read your first and last names from the console seperately, and then print them on the console together, separated by a space."
   ]
  },
  {
   "cell_type": "code",
   "execution_count": 76,
   "id": "4c7217e0",
   "metadata": {},
   "outputs": [
    {
     "name": "stdin",
     "output_type": "stream",
     "text": [
      "Firstname:  Hanjie\n",
      "Lastname:  Pan\n"
     ]
    },
    {
     "name": "stdout",
     "output_type": "stream",
     "text": [
      "Hanjie Pan\n"
     ]
    }
   ],
   "source": [
    "Firstname = input(\"Firstname: \")\n",
    "Lastname = input(\"Lastname: \")\n",
    "print(Firstname + \" \" + Lastname)"
   ]
  },
  {
   "cell_type": "markdown",
   "id": "e83fa346",
   "metadata": {},
   "source": [
    "-----------------------------------------------------------------------------\n",
    "# Exercise 06\n",
    "Write a program that determines whether a number given as user input is positive or negative\n",
    " \n",
    "You will need to convert the console input from a string to a number first!"
   ]
  },
  {
   "cell_type": "code",
   "execution_count": 86,
   "id": "ecd924c2",
   "metadata": {},
   "outputs": [
    {
     "name": "stdin",
     "output_type": "stream",
     "text": [
      "number:  0\n"
     ]
    },
    {
     "name": "stdout",
     "output_type": "stream",
     "text": [
      "zero\n"
     ]
    }
   ],
   "source": [
    "num = float(input(\"number: \")) \n",
    "if num < 0:\n",
    "    print(\"This is negative\")\n",
    "elif num > 0:\n",
    "    print(\"This is positive\")\n",
    "else:\n",
    "    print(\"zero\")"
   ]
  },
  {
   "cell_type": "markdown",
   "id": "2a192596",
   "metadata": {},
   "source": [
    "-----------------------------------------------------------------------------\n",
    "# Exercise 07\n",
    "Write a program that picks a random number between 1-20 and makes the user guess until they get the number right. Then print a congratulations message\n",
    "- (Find out yourself how to generate a random integer)\n",
    "- Bonus: make the user choose the range within which they have to guess\n",
    "- Bonus: keep track of how many guesses were made and print this at the end"
   ]
  },
  {
   "cell_type": "code",
   "execution_count": 115,
   "id": "70358dd3",
   "metadata": {},
   "outputs": [
    {
     "name": "stdin",
     "output_type": "stream",
     "text": [
      "Guess a number between 1 and 20:  3\n"
     ]
    },
    {
     "name": "stdout",
     "output_type": "stream",
     "text": [
      "Congratulations! You guessed the correct number: 3. It took you 1 guesses.\n"
     ]
    }
   ],
   "source": [
    "import random\n",
    "random_num = random.randint(1, 20)\n",
    "\n",
    "guess = 0\n",
    "guess_count = 0 \n",
    "\n",
    "while guess != random_num:\n",
    "    guess = int(input(\"Guess a number between 1 and 20: \"))\n",
    "    guess_count += 1\n",
    "    \n",
    "    if guess < random_num:\n",
    "        print(\"Too low, try again!\")\n",
    "    elif guess > random_num:\n",
    "        print(\"Too high, try again!\")\n",
    "\n",
    "print(f\"Congratulations! You guessed the correct number: {random_num}. It took you {guess_count} guesses.\")"
   ]
  },
  {
   "cell_type": "markdown",
   "id": "d53b9c07",
   "metadata": {},
   "source": [
    "-----------------------------------------------------------------------------\n",
    "# Exercise 08\n",
    "Ask a sentence as input, then print the words in alphabetical order.\n",
    "Hint: look up how to split up a string"
   ]
  },
  {
   "cell_type": "code",
   "execution_count": 121,
   "id": "b6524cf5",
   "metadata": {},
   "outputs": [
    {
     "name": "stdin",
     "output_type": "stream",
     "text": [
      "Please enter a sentence:  I come from China\n"
     ]
    },
    {
     "name": "stdout",
     "output_type": "stream",
     "text": [
      "The words in alphabetical order are:\n",
      "China\n",
      "I\n",
      "come\n",
      "from\n"
     ]
    }
   ],
   "source": [
    "sentence = input(\"Please enter a sentence: \")\n",
    "words = sentence.split()\n",
    "letter = sorted(words)\n",
    "\n",
    "print(\"The words in alphabetical order are:\")\n",
    "for word in letter:\n",
    "    print(word)"
   ]
  },
  {
   "cell_type": "markdown",
   "id": "09a7b060",
   "metadata": {},
   "source": [
    "-----------------------------------------------------------------------------\n",
    "# Exercise 09\n",
    "Write a program using for loops to print a christmas tree of x lines high\n",
    "specified by the user.\n",
    "(use for loops)\n",
    "so for instance, a chrismas tree of 4 high should looks like this:\n",
    "\n",
    "```\n",
    "\n",
    "    *\n",
    "   ***\n",
    "  *****\n",
    " *******\n",
    "    |\n",
    "\n",
    "```\n",
    "\n",
    "hint: first combine strings into a variable before printing"
   ]
  },
  {
   "cell_type": "code",
   "execution_count": 127,
   "id": "5150f7a4",
   "metadata": {},
   "outputs": [
    {
     "name": "stdin",
     "output_type": "stream",
     "text": [
      "Enter the number of lines for the Christmas tree:  5\n"
     ]
    },
    {
     "name": "stdout",
     "output_type": "stream",
     "text": [
      "    *\n",
      "   ***\n",
      "  *****\n",
      " *******\n",
      "*********\n",
      "    |\n"
     ]
    }
   ],
   "source": [
    "n = int(input(\"Enter the number of lines for the Christmas tree: \"))\n",
    "for i in range(1, n+1):\n",
    "    print(' '*(n-i)+'*'*(2*i-1))\n",
    "    \n",
    "trunk_spaces = ' ' * (n - 1)\n",
    "print(trunk_spaces + '|')\n"
   ]
  },
  {
   "cell_type": "markdown",
   "id": "07f67531",
   "metadata": {},
   "source": [
    "-----------------------------------------------------------------------------\n",
    "# Exercise 10\n",
    "Write a piece of code that prints the first $n$ numbers of the padovan sequence"
   ]
  },
  {
   "cell_type": "code",
   "execution_count": 131,
   "id": "d301c61b",
   "metadata": {},
   "outputs": [
    {
     "name": "stdin",
     "output_type": "stream",
     "text": [
      " 10\n"
     ]
    },
    {
     "name": "stdout",
     "output_type": "stream",
     "text": [
      "1\n",
      "1\n",
      "1\n",
      "2\n",
      "2\n",
      "3\n",
      "4\n",
      "5\n",
      "7\n",
      "9\n"
     ]
    }
   ],
   "source": [
    "p0 = 1\n",
    "p1 = 1\n",
    "p2 = 1\n",
    "\n",
    "n = int(input())\n",
    "\n",
    "for i in range(n):\n",
    "    print(p0)\n",
    "    n = p0 + p1\n",
    "    p0 = p1\n",
    "    p1 = p2\n",
    "    p2 = n"
   ]
  },
  {
   "cell_type": "code",
   "execution_count": null,
   "id": "1cb46e7d-dc6c-40c0-9c2b-67bdc01f9a9c",
   "metadata": {},
   "outputs": [],
   "source": []
  }
 ],
 "metadata": {
  "kernelspec": {
   "display_name": "Python 3 (ipykernel)",
   "language": "python",
   "name": "python3"
  },
  "language_info": {
   "codemirror_mode": {
    "name": "ipython",
    "version": 3
   },
   "file_extension": ".py",
   "mimetype": "text/x-python",
   "name": "python",
   "nbconvert_exporter": "python",
   "pygments_lexer": "ipython3",
   "version": "3.12.4"
  }
 },
 "nbformat": 4,
 "nbformat_minor": 5
}
